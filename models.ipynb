{
 "cells": [
  {
   "cell_type": "markdown",
   "metadata": {},
   "source": [
    "%%latex\n",
    "\n",
    "\\textbf{\\large Technical test for Junior Data Scientist position at Datrik Intelligence}\n",
    "\n",
    "\\textbf{\\normalsize Antonio Ortega}"
   ]
  },
  {
   "cell_type": "markdown",
   "metadata": {},
   "source": [
    "# Prepare environment"
   ]
  },
  {
   "cell_type": "markdown",
   "metadata": {},
   "source": [
    "## Load libraries"
   ]
  },
  {
   "cell_type": "code",
   "execution_count": 56,
   "metadata": {
    "collapsed": false
   },
   "outputs": [],
   "source": [
    "import pandas as pd\n",
    "import matplotlib.pyplot as plt\n",
    "import numpy as np\n",
    "import os.path\n",
    "from sklearn.model_selection import GridSearchCV\n",
    "from sklearn.decomposition import PCA\n",
    "from sklearn.model_selection import train_test_split\n",
    "from sklearn.linear_model import RidgeClassifier\n",
    "from sklearn.ensemble import GradientBoostingClassifier\n",
    "from sklearn.ensemble import AdaBoostClassifier\n",
    "from sklearn.ensemble import RandomForestClassifier\n",
    "from sklearn.metrics import accuracy_score\n",
    "from sklearn.metrics import roc_auc_score\n",
    "from sklearn.metrics import roc_curve\n",
    "from sklearn.metrics import auc"
   ]
  },
  {
   "cell_type": "markdown",
   "metadata": {},
   "source": [
    "## Utility functions "
   ]
  },
  {
   "cell_type": "code",
   "execution_count": 2,
   "metadata": {
    "collapsed": false
   },
   "outputs": [],
   "source": [
    "def plot_roc(y_train, y_predict_train_bin, y_test, y_predict_test_bin):\n",
    "  lw=2\n",
    "  fpr = dict()\n",
    "  tpr = dict()\n",
    "  roc_auc = dict()\n",
    "  fpr[0], tpr[0], _ = roc_curve(y_true=y_train, y_score = y_predict_train_bin)\n",
    "  roc_auc[0] = auc(fpr[0], tpr[0])\n",
    "  fpr[1], tpr[1], _ = roc_curve(y_true=y_test, y_score = y_predict_test_bin)\n",
    "  roc_auc[1] = auc(fpr[1], tpr[1])\n",
    "  cols = ['darkorange', \"yellow\"]\n",
    "  datasets = [\"Train\", \"Test\"]\n",
    "  plt.figure()\n",
    "  for i in range(2):\n",
    "    plt.plot(fpr[i], tpr[i], color=cols[i],\n",
    "             lw=lw, label='%s (area = %0.2f)' % (datasets[i], roc_auc[i]))\n",
    "\n",
    "  plt.plot([0, 1], [0, 1], color='navy', lw=lw, linestyle='--')\n",
    "  plt.xlim([0.0, 1.0])\n",
    "  plt.ylim([0.0, 1.05])\n",
    "  plt.xlabel('False Positive Rate')\n",
    "  plt.ylabel('True Positive Rate')\n",
    "  plt.title('Receiver operating characteristic (ROC)')\n",
    "  plt.legend(loc=\"lower right\")\n",
    "  plt.show()"
   ]
  },
  {
   "cell_type": "markdown",
   "metadata": {},
   "source": [
    "## Load datasets"
   ]
  },
  {
   "cell_type": "code",
   "execution_count": 36,
   "metadata": {
    "collapsed": false
   },
   "outputs": [],
   "source": [
    "x_train_mca = pd.read_csv(os.path.join(\"proc_data\", \"x_train_mca_full.csv\"), dtype=np.float64)\n",
    "x_train = pd.read_csv(os.path.join(\"proc_data\", \"x_train.csv\"), dtype=np.float64)\n",
    "x_train = pd.concat([x_train, x_train_mca.filter(like='MCA_')], axis=1)\n",
    "\n",
    "x_pred_mca = pd.read_csv(os.path.join(\"proc_data\", \"x_test_mca_full.csv\"))\n",
    "x_pred = pd.read_csv(os.path.join(\"proc_data\", \"x_test.csv\"), dtype=np.float64)\n",
    "x_pred = pd.concat([x_pred, x_pred_mca.filter(like='MCA_')], axis=1)\n",
    "\n",
    "y_train = pd.read_csv(os.path.join(\"proc_data\", \"y_train.csv\"))\n",
    "X_train, X_test, y_train, y_test = train_test_split(x_train, y_train, test_size=0.33, random_state=42)"
   ]
  },
  {
   "cell_type": "markdown",
   "metadata": {},
   "source": [
    "## Overview of the input data"
   ]
  },
  {
   "cell_type": "code",
   "execution_count": 4,
   "metadata": {
    "collapsed": false
   },
   "outputs": [
    {
     "name": "stdout",
     "output_type": "stream",
     "text": [
      "815 features loaded\n"
     ]
    },
    {
     "data": {
      "text/html": [
       "<div>\n",
       "<style scoped>\n",
       "    .dataframe tbody tr th:only-of-type {\n",
       "        vertical-align: middle;\n",
       "    }\n",
       "\n",
       "    .dataframe tbody tr th {\n",
       "        vertical-align: top;\n",
       "    }\n",
       "\n",
       "    .dataframe thead th {\n",
       "        text-align: right;\n",
       "    }\n",
       "</style>\n",
       "<table border=\"1\" class=\"dataframe\">\n",
       "  <thead>\n",
       "    <tr style=\"text-align: right;\">\n",
       "      <th></th>\n",
       "      <th>0</th>\n",
       "      <th>1</th>\n",
       "      <th>2</th>\n",
       "      <th>3</th>\n",
       "      <th>4</th>\n",
       "      <th>5</th>\n",
       "      <th>6</th>\n",
       "      <th>7</th>\n",
       "      <th>8</th>\n",
       "      <th>9</th>\n",
       "    </tr>\n",
       "  </thead>\n",
       "  <tbody>\n",
       "    <tr>\n",
       "      <th>feature</th>\n",
       "      <td>MCA</td>\n",
       "      <td>binary</td>\n",
       "      <td>counter</td>\n",
       "      <td>edad</td>\n",
       "      <td>et</td>\n",
       "      <td>farmaco</td>\n",
       "      <td>nominal</td>\n",
       "      <td>ordinal</td>\n",
       "      <td>raza</td>\n",
       "      <td>sexo</td>\n",
       "    </tr>\n",
       "    <tr>\n",
       "      <th>count</th>\n",
       "      <td>5</td>\n",
       "      <td>3</td>\n",
       "      <td>7</td>\n",
       "      <td>1</td>\n",
       "      <td>719</td>\n",
       "      <td>21</td>\n",
       "      <td>51</td>\n",
       "      <td>2</td>\n",
       "      <td>5</td>\n",
       "      <td>1</td>\n",
       "    </tr>\n",
       "  </tbody>\n",
       "</table>\n",
       "</div>"
      ],
      "text/plain": [
       "           0       1        2     3    4        5        6        7     8  \\\n",
       "feature  MCA  binary  counter  edad   et  farmaco  nominal  ordinal  raza   \n",
       "count      5       3        7     1  719       21       51        2     5   \n",
       "\n",
       "            9  \n",
       "feature  sexo  \n",
       "count       1  "
      ]
     },
     "execution_count": 4,
     "metadata": {},
     "output_type": "execute_result"
    }
   ],
   "source": [
    "print(\"{} features loaded\".format(X_train.columns.values.shape[0]))\n",
    "feature_count = np.unique([e.replace(\".\", \"_\").split(\"_\")[0] for e in X_train.columns.values.tolist()], return_counts=True)\n",
    "pd.DataFrame({\"feature\":feature_count[0], \"count\": feature_count[1]}).T"
   ]
  },
  {
   "cell_type": "markdown",
   "metadata": {},
   "source": [
    "## Scale the dataset\n",
    "This is carried out in order to give the same importance to all variables, as *a* *priori* we do not know anything about the label and thus cannot state any feature should be more important than any other. "
   ]
  },
  {
   "cell_type": "code",
   "execution_count": 5,
   "metadata": {
    "collapsed": false
   },
   "outputs": [],
   "source": [
    "scaler = StandardScaler()\n",
    "X_train_scaled = scaler.fit_transform(X_train)\n",
    "X_test_scaled = scaler.transform(X_test)"
   ]
  },
  {
   "cell_type": "markdown",
   "metadata": {},
   "source": [
    "# Linear regression model"
   ]
  },
  {
   "cell_type": "markdown",
   "metadata": {},
   "source": [
    "## Fit (train) the best model to the training set\n",
    "Use the implemented Ridge Classifier model from scikit-learn. Perform grid search 5-fold cross-validation to obtain a robust AUC estimate while selecting the best alpha (penalizing factor over linear weights). Try values [0,1,5,7,9,10]"
   ]
  },
  {
   "cell_type": "code",
   "execution_count": 6,
   "metadata": {
    "collapsed": false
   },
   "outputs": [],
   "source": [
    "ridge = RidgeClassifier(max_iter=2000)\n",
    "parameters = {\"alpha\": [0, 1, 5, 7, 9, 10]}\n",
    "ridge_cv = GridSearchCV(estimator=ridge, param_grid=parameters, cv=5)"
   ]
  },
  {
   "cell_type": "code",
   "execution_count": 7,
   "metadata": {
    "collapsed": false
   },
   "outputs": [
    {
     "data": {
      "text/plain": [
       "GridSearchCV(cv=5, error_score='raise-deprecating',\n",
       "       estimator=RidgeClassifier(alpha=1.0, class_weight=None, copy_X=True, fit_intercept=True,\n",
       "        max_iter=2000, normalize=False, random_state=None, solver='auto',\n",
       "        tol=0.001),\n",
       "       fit_params=None, iid='warn', n_jobs=None,\n",
       "       param_grid={'alpha': [0, 1, 5, 7, 9, 10]}, pre_dispatch='2*n_jobs',\n",
       "       refit=True, return_train_score='warn', scoring=None, verbose=0)"
      ]
     },
     "execution_count": 7,
     "metadata": {},
     "output_type": "execute_result"
    }
   ],
   "source": [
    "ridge_cv.fit(X_train, y_train.Y)"
   ]
  },
  {
   "cell_type": "markdown",
   "metadata": {},
   "source": [
    "## Show the best performing model as resulting from CV "
   ]
  },
  {
   "cell_type": "code",
   "execution_count": 8,
   "metadata": {
    "collapsed": false
   },
   "outputs": [
    {
     "data": {
      "text/plain": [
       "RidgeClassifier(alpha=10, class_weight=None, copy_X=True, fit_intercept=True,\n",
       "        max_iter=2000, normalize=False, random_state=None, solver='auto',\n",
       "        tol=0.001)"
      ]
     },
     "execution_count": 8,
     "metadata": {},
     "output_type": "execute_result"
    }
   ],
   "source": [
    "ridge_cv.best_estimator_"
   ]
  },
  {
   "cell_type": "markdown",
   "metadata": {},
   "source": [
    "## Exploit (predict) the trained model in the training and test sets"
   ]
  },
  {
   "cell_type": "code",
   "execution_count": 53,
   "metadata": {
    "collapsed": false
   },
   "outputs": [
    {
     "name": "stdout",
     "output_type": "stream",
     "text": [
      "Accuracy score (train): 0.647\n",
      "AUC score (train): 0.637\n",
      "Accuracy score (test): 0.635\n",
      "AUC score (test): 0.626\n"
     ]
    }
   ],
   "source": [
    "y_predict_train = ridge_cv.predict(X_train)\n",
    "y_predict_train_bin = np.round(y_predict_train)\n",
    "print(\"Accuracy score (train): {0:.3f}\".format(accuracy_score(y_train, y_predict_train_bin, normalize=True, sample_weight=None)))\n",
    "print(\"AUC score (train): {0:.3f}\".format(roc_auc_score(y_train, y_predict_train_bin)))\n",
    "\n",
    "y_predict_test = ridge_cv.predict(X_test)\n",
    "y_predict_test_bin = np.round(y_predict_test)\n",
    "print(\"Accuracy score (test): {0:.3f}\".format(accuracy_score(y_test, y_predict_test_bin, normalize=True, sample_weight=None)))\n",
    "print(\"AUC score (test): {0:.3f}\".format(roc_auc_score(y_test, y_predict_test_bin)))"
   ]
  },
  {
   "cell_type": "markdown",
   "metadata": {},
   "source": [
    "## Display ROC curve for both sets"
   ]
  },
  {
   "cell_type": "code",
   "execution_count": 54,
   "metadata": {
    "collapsed": false,
    "scrolled": true
   },
   "outputs": [
    {
     "data": {
      "image/png": "[encoded data removed]",
      "text/plain": [
       "<Figure size 432x288 with 1 Axes>"
      ]
     },
     "metadata": {
      "needs_background": "light"
     },
     "output_type": "display_data"
    }
   ],
   "source": [
    "plot_roc(y_train, y_predict_train_bin, y_test, y_predict_test_bin)"
   ]
  },
  {
   "cell_type": "markdown",
   "metadata": {},
   "source": [
    "## Save predictions of true test (pred) to separate file"
   ]
  },
  {
   "cell_type": "code",
   "execution_count": 55,
   "metadata": {
    "collapsed": false
   },
   "outputs": [],
   "source": [
    "prediction = pd.DataFrame(data = ridge_cv.predict(x_pred), index = x_pred.index, columns=[\"prediccion\"])\n",
    "prediction.index.names = ['identificador']\n",
    "prediction.to_csv(os.path.join(\"predictions\", \"linear_classifier.csv\"))"
   ]
  },
  {
   "cell_type": "markdown",
   "metadata": {},
   "source": [
    "# Gradient Boosting model"
   ]
  },
  {
   "cell_type": "markdown",
   "metadata": {},
   "source": [
    "## Fit (train) the best model to the training set\n",
    "Use the implemented Gradient Boosting Classifier model from scikit-learn. Perform grid search 5-fold cross-validation to obtain a robust AUC estimate while selecting the learning rate (the strength of the update), the maximum number of features (how many branches are possible at each split)  and the maximum number of leafs (constraints the size of the tree and is traded off by the number of trees)."
   ]
  },
  {
   "cell_type": "code",
   "execution_count": 11,
   "metadata": {
    "collapsed": false
   },
   "outputs": [],
   "source": [
    "gb = GradientBoostingClassifier(random_state = 0, subsample = 0.9, n_estimators=500)\n",
    "param_grid = dict(\n",
    "    learning_rate = [0.05, 0.1, 0.3],\n",
    "    max_features=[1,5,10],\n",
    "    max_leaf_nodes = [2,3,4])\n",
    "gb_cv = GridSearchCV(estimator=gb, param_grid=param_grid, cv=5, verbose=True,n_jobs=2)"
   ]
  },
  {
   "cell_type": "code",
   "execution_count": 12,
   "metadata": {
    "collapsed": false
   },
   "outputs": [
    {
     "name": "stdout",
     "output_type": "stream",
     "text": [
      "Fitting 5 folds for each of 36 candidates, totalling 180 fits\n"
     ]
    },
    {
     "name": "stderr",
     "output_type": "stream",
     "text": [
      "[Parallel(n_jobs=2)]: Using backend LokyBackend with 2 concurrent workers.\n",
      "[Parallel(n_jobs=2)]: Done  46 tasks      | elapsed:  6.7min\n",
      "[Parallel(n_jobs=2)]: Done 180 out of 180 | elapsed: 26.3min finished\n"
     ]
    },
    {
     "data": {
      "text/plain": [
       "GridSearchCV(cv=5, error_score='raise-deprecating',\n",
       "       estimator=GradientBoostingClassifier(criterion='friedman_mse', init=None,\n",
       "              learning_rate=0.1, loss='deviance', max_depth=3,\n",
       "              max_features=None, max_leaf_nodes=None,\n",
       "              min_impurity_decrease=0.0, min_impurity_split=None,\n",
       "              min_samples_leaf=1, min_sampl...      subsample=0.9, tol=0.0001, validation_fraction=0.1,\n",
       "              verbose=0, warm_start=False),\n",
       "       fit_params=None, iid='warn', n_jobs=2,\n",
       "       param_grid={'learning_rate': [0.05, 0.1, 0.3, 0.5], 'max_features': [1, 5, 10], 'max_leaf_nodes': [2, 3, 4]},\n",
       "       pre_dispatch='2*n_jobs', refit=True, return_train_score='warn',\n",
       "       scoring=None, verbose=True)"
      ]
     },
     "execution_count": 12,
     "metadata": {},
     "output_type": "execute_result"
    }
   ],
   "source": [
    "gb_cv.fit(X_train_scaled, y_train.values.reshape((-1,)))"
   ]
  },
  {
   "cell_type": "markdown",
   "metadata": {},
   "source": [
    "## Show the best performing model as resulting from CV "
   ]
  },
  {
   "cell_type": "code",
   "execution_count": 18,
   "metadata": {
    "collapsed": false
   },
   "outputs": [
    {
     "data": {
      "text/plain": [
       "GradientBoostingClassifier(criterion='friedman_mse', init=None,\n",
       "              learning_rate=0.1, loss='deviance', max_depth=3,\n",
       "              max_features=10, max_leaf_nodes=4, min_impurity_decrease=0.0,\n",
       "              min_impurity_split=None, min_samples_leaf=1,\n",
       "              min_samples_split=2, min_weight_fraction_leaf=0.0,\n",
       "              n_estimators=500, n_iter_no_change=None, presort='auto',\n",
       "              random_state=0, subsample=0.9, tol=0.0001,\n",
       "              validation_fraction=0.1, verbose=0, warm_start=False)"
      ]
     },
     "execution_count": 18,
     "metadata": {},
     "output_type": "execute_result"
    }
   ],
   "source": [
    "gb_cv.best_estimator_"
   ]
  },
  {
   "cell_type": "markdown",
   "metadata": {},
   "source": [
    "## Exploit (predict) the trained model in the training and test sets"
   ]
  },
  {
   "cell_type": "code",
   "execution_count": 113,
   "metadata": {
    "collapsed": false
   },
   "outputs": [
    {
     "name": "stdout",
     "output_type": "stream",
     "text": [
      "Accuracy score (training): 0.654\n",
      "AUC score (training): 0.643\n",
      "Accuracy score (test): 0.645\n",
      "AUC score (test): 0.635\n"
     ]
    }
   ],
   "source": [
    "y_predict_train = gb_cv.predict_proba(X_train_scaled)[:,1]\n",
    "y_predict_train_bin = np.round(y_predict_train)\n",
    "print(\"Accuracy score (training): {0:.3f}\".format(\n",
    "        accuracy_score(y_train, y_predict_train_bin, normalize=True, sample_weight=None)\n",
    "    ))\n",
    "print(\"AUC score (training): {0:.3f}\".format(roc_auc_score(y_train, y_predict_train_bin)))\n",
    "\n",
    "y_predict_test = gb_cv.predict_proba(X_test_scaled)[:,1]\n",
    "y_predict_test_bin = np.round(y_predict_test)\n",
    "print(\"Accuracy score (test): {0:.3f}\".format(\n",
    "        accuracy_score(y_test, y_predict_test_bin, normalize=True, sample_weight=None)\n",
    "    ))\n",
    "print(\"AUC score (test): {0:.3f}\".format(roc_auc_score(y_test, y_predict_test_bin)))\n",
    "# print(\"Learning rate: \", learning_rate)\n",
    "# print(\"Accuracy score (training): {0:.3f}\".format(gb.score(X_train_scaled, y_train)))\n",
    "# print(\"Accuracy score (validation): {0:.3f}\".format(gb.score(X_test_scaled, y_test)))"
   ]
  },
  {
   "cell_type": "markdown",
   "metadata": {},
   "source": [
    "## Display ROC curve for both sets"
   ]
  },
  {
   "cell_type": "code",
   "execution_count": 20,
   "metadata": {
    "collapsed": false
   },
   "outputs": [
    {
     "data": {
      "image/png": "[encoded data removed]",
      "text/plain": [
       "<Figure size 432x288 with 1 Axes>"
      ]
     },
     "metadata": {
      "needs_background": "light"
     },
     "output_type": "display_data"
    }
   ],
   "source": [
    "plot_roc(y_train, y_predict_train_bin, y_test, y_predict_test_bin)"
   ]
  },
  {
   "cell_type": "markdown",
   "metadata": {},
   "source": [
    "## Save predictions of true test (pred) to separate file"
   ]
  },
  {
   "cell_type": "code",
   "execution_count": 41,
   "metadata": {
    "collapsed": false
   },
   "outputs": [],
   "source": [
    "prediction = pd.DataFrame(data = gb_cv.predict_proba(x_pred)[:,1], index = x_pred.index, columns=[\"prediccion\"])\n",
    "prediction.index.names = ['identificador']\n",
    "prediction.to_csv(os.path.join(\"predictions\", \"gradient_boosting.csv\"))"
   ]
  },
  {
   "cell_type": "markdown",
   "metadata": {},
   "source": [
    "# Discussion\n",
    "While both models achieve similar AUC scores, around 0.64, they are far from perfect and couldbe improved. As mentioned in the EDA, further data engineering prior to model training could make this process easier. Moreover, models with more capacity (i.e. more iterations, etc) or more complex (neural networks) could have been developed but were not due to computing power capacity, time and the scope of the project. Some of the frameworks offering such models are keras and PyMC3. PyMC3 is a probabilistic programming framework that could have been used here to return a bayesian estimate (true probability based on model and data) of the label being 1.\n",
    "\n",
    "The models have nevertheless partially captured the function connecting the input features to the target label."
   ]
  }
 ],
 "metadata": {
  "kernelspec": {
   "display_name": "ML",
   "language": "python",
   "name": "ml"
  },
  "language_info": {
   "codemirror_mode": {
    "name": "ipython",
    "version": 3
   },
   "file_extension": ".py",
   "mimetype": "text/x-python",
   "name": "python",
   "nbconvert_exporter": "python",
   "pygments_lexer": "ipython3",
   "version": "3.6.6"
  }
 },
 "nbformat": 4,
 "nbformat_minor": 0
}
